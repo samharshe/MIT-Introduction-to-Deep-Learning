{
 "cells": [
  {
   "attachments": {},
   "cell_type": "markdown",
   "metadata": {},
   "source": [
    "[Lecture 8: Text-to-Image Generation](https://www.youtube.com/watch?v=SA-v6Op2kL4&list=PLtBw6njQRU-rwp5__7C0oIVt26ZgjG9NI&index=8)"
   ]
  },
  {
   "attachments": {},
   "cell_type": "markdown",
   "metadata": {},
   "source": [
    "text-to-image generators can take advantage of pre-trained LLMs. (how?)  \n",
    "Dall-E2: diffusion model on pre-trained CLIP representation.  \n",
    "Imagen: diffusion model on pre-trained LLM.  \n",
    "Parti: autoregression on latent token space.  \n",
    "stable/latent diffusion: diffusion model on latent embeddings."
   ]
  },
  {
   "attachments": {},
   "cell_type": "markdown",
   "metadata": {},
   "source": [
    "Muse is neither diffusion nor autoregressive.  \n",
    "similar performance to other state-of-the-art models, but much faster."
   ]
  },
  {
   "attachments": {},
   "cell_type": "markdown",
   "metadata": {},
   "source": [
    "Muse is mostly transformer-based, but it also uses CNNs.  "
   ]
  },
  {
   "attachments": {},
   "cell_type": "markdown",
   "metadata": {},
   "source": [
    "first part is a LLM. take text input to 4096-dimensional space, which is then compressed.  \n",
    "pure CNN encoder-decoder structure.  \n",
    "downsamples into 16x16 latent space.  "
   ]
  },
  {
   "attachments": {},
   "cell_type": "markdown",
   "metadata": {},
   "source": [
    "token-based super-resolution does better than pixel-based.  \n",
    "if you want a big, high-def image, don't throw away text information.  "
   ]
  },
  {
   "attachments": {},
   "cell_type": "markdown",
   "metadata": {},
   "source": [
    "open q: is there a way to evaluate the quality of a model without humans looking at results? "
   ]
  },
  {
   "attachments": {},
   "cell_type": "markdown",
   "metadata": {},
   "source": [
    "how can we make a model that will just change part of an image (the background, convert a  cat to a dog, put text on a shirt, etc.)?"
   ]
  },
  {
   "attachments": {},
   "cell_type": "markdown",
   "metadata": {},
   "source": [
    "model breaks down generating many objects, probably because it doesn't have as many examples of images with lots of the same thing."
   ]
  },
  {
   "attachments": {},
   "cell_type": "markdown",
   "metadata": {},
   "source": [
    "reflections:  \n",
    "Muse is a beast.  \n",
    "I should learn more about how text-to-image models use LLMs. that seems cool."
   ]
  },
  {
   "cell_type": "markdown",
   "metadata": {},
   "source": []
  }
 ],
 "metadata": {
  "language_info": {
   "name": "python"
  },
  "orig_nbformat": 4
 },
 "nbformat": 4,
 "nbformat_minor": 2
}
