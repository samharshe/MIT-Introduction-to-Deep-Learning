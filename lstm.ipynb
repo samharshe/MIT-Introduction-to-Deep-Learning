{
 "cells": [
  {
   "attachments": {},
   "cell_type": "markdown",
   "metadata": {},
   "source": [
    "I'm going to hold off on my extra research here in case this is covered later in the MIT course. if it is not, then I'll come back, since this seems like an important enough topic to understand well, although LSTMs might be largely obsolete.  "
   ]
  }
 ],
 "metadata": {
  "language_info": {
   "name": "python"
  },
  "orig_nbformat": 4
 },
 "nbformat": 4,
 "nbformat_minor": 2
}
